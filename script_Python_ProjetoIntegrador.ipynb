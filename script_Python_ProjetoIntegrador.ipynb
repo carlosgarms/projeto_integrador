{
 "cells": [
  {
   "cell_type": "markdown",
   "metadata": {},
   "source": [
    "# Insper - Pós Graduação em Ciência de Dados\n",
    "\n",
    "## Computação para Ciência de Dados\n",
    "\n",
    "### Projeto Integrador - Label Engineering"
   ]
  },
  {
   "cell_type": "markdown",
   "metadata": {},
   "source": [
    "# Preparação"
   ]
  },
  {
   "cell_type": "code",
   "execution_count": 26,
   "metadata": {},
   "outputs": [],
   "source": [
    "# Bibliotecas\n",
    "import pandas as pd\n",
    "import numpy as np"
   ]
  },
  {
   "cell_type": "markdown",
   "metadata": {},
   "source": [
    "# Importando os dados"
   ]
  },
  {
   "cell_type": "code",
   "execution_count": 27,
   "metadata": {},
   "outputs": [],
   "source": [
    "df = pd.read_csv('cs_bisnode_panel.csv')"
   ]
  },
  {
   "cell_type": "code",
   "execution_count": 28,
   "metadata": {},
   "outputs": [
    {
     "name": "stdout",
     "output_type": "stream",
     "text": [
      "<class 'pandas.core.frame.DataFrame'>\n",
      "RangeIndex: 287829 entries, 0 to 287828\n",
      "Data columns (total 48 columns):\n",
      " #   Column                Non-Null Count   Dtype  \n",
      "---  ------                --------------   -----  \n",
      " 0   comp_id               287829 non-null  float64\n",
      " 1   begin                 287829 non-null  object \n",
      " 2   end                   287829 non-null  object \n",
      " 3   COGS                  18257 non-null   float64\n",
      " 4   amort                 279789 non-null  float64\n",
      " 5   curr_assets           287698 non-null  float64\n",
      " 6   curr_liab             287698 non-null  float64\n",
      " 7   extra_exp             269300 non-null  float64\n",
      " 8   extra_inc             269300 non-null  float64\n",
      " 9   extra_profit_loss     270626 non-null  float64\n",
      " 10  finished_prod         17485 non-null   float64\n",
      " 11  fixed_assets          287698 non-null  float64\n",
      " 12  inc_bef_tax           280392 non-null  float64\n",
      " 13  intang_assets         287689 non-null  float64\n",
      " 14  inventories           287698 non-null  float64\n",
      " 15  liq_assets            287698 non-null  float64\n",
      " 16  material_exp          279789 non-null  float64\n",
      " 17  net_dom_sales         18257 non-null   float64\n",
      " 18  net_exp_sales         18257 non-null   float64\n",
      " 19  personnel_exp         279789 non-null  float64\n",
      " 20  profit_loss_year      277945 non-null  float64\n",
      " 21  sales                 280392 non-null  float64\n",
      " 22  share_eq              287698 non-null  float64\n",
      " 23  subscribed_cap        287698 non-null  float64\n",
      " 24  tang_assets           286359 non-null  float64\n",
      " 25  wages                 17983 non-null   float64\n",
      " 26  D                     0 non-null       float64\n",
      " 27  balsheet_flag         287829 non-null  int64  \n",
      " 28  balsheet_length       287829 non-null  int64  \n",
      " 29  balsheet_notfullyear  287829 non-null  int64  \n",
      " 30  year                  287829 non-null  int64  \n",
      " 31  founded_year          231372 non-null  float64\n",
      " 32  exit_year             38859 non-null   float64\n",
      " 33  ceo_count             231402 non-null  float64\n",
      " 34  foreign               231402 non-null  float64\n",
      " 35  female                231402 non-null  float64\n",
      " 36  birth_year            176011 non-null  float64\n",
      " 37  inoffice_days         231402 non-null  float64\n",
      " 38  gender                231402 non-null  object \n",
      " 39  origin                231402 non-null  object \n",
      " 40  nace_main             286791 non-null  float64\n",
      " 41  ind2                  286791 non-null  float64\n",
      " 42  ind                   278060 non-null  float64\n",
      " 43  urban_m               287829 non-null  int64  \n",
      " 44  region_m              286989 non-null  object \n",
      " 45  founded_date          287778 non-null  object \n",
      " 46  exit_date             56180 non-null   object \n",
      " 47  labor_avg             141297 non-null  float64\n",
      "dtypes: float64(36), int64(5), object(7)\n",
      "memory usage: 105.4+ MB\n"
     ]
    }
   ],
   "source": [
    "df.info()"
   ]
  },
  {
   "cell_type": "markdown",
   "metadata": {},
   "source": [
    "# Filtro inicial"
   ]
  },
  {
   "cell_type": "markdown",
   "metadata": {},
   "source": [
    "Dropando as colunas `COGS`, `finished_prod`, `net_dom_sales`, `net_exp_sales`, `wages`, `D`. "
   ]
  },
  {
   "cell_type": "code",
   "execution_count": 29,
   "metadata": {},
   "outputs": [],
   "source": [
    "filt_df = df.drop(['COGS', 'finished_prod', 'net_dom_sales', 'net_exp_sales', 'wages', 'D'], axis=1)"
   ]
  },
  {
   "cell_type": "markdown",
   "metadata": {},
   "source": [
    "Removendo o ano de `2016`"
   ]
  },
  {
   "cell_type": "code",
   "execution_count": 30,
   "metadata": {},
   "outputs": [],
   "source": [
    "filt_df = filt_df[filt_df.year != 2016]"
   ]
  },
  {
   "cell_type": "markdown",
   "metadata": {},
   "source": [
    "# Label Engineering"
   ]
  },
  {
   "cell_type": "markdown",
   "metadata": {},
   "source": [
    "Defina o índice do dataframe com as colunas `year` e `comp_id`"
   ]
  },
  {
   "cell_type": "code",
   "execution_count": 31,
   "metadata": {},
   "outputs": [],
   "source": [
    "year = filt_df['year'].unique()\n",
    "comp_id = filt_df['comp_id'].unique()"
   ]
  },
  {
   "cell_type": "markdown",
   "metadata": {},
   "source": [
    "Utilize o método `MultiIndex.from_product` para complementar índices faltantes para cada `comp_id`"
   ]
  },
  {
   "cell_type": "code",
   "execution_count": 32,
   "metadata": {},
   "outputs": [],
   "source": [
    "filt_df = filt_df.set_index(['year', 'comp_id'])"
   ]
  },
  {
   "cell_type": "markdown",
   "metadata": {},
   "source": [
    "Utilize o método `DataFrame.reindex` para criar as linhas nulas nos anos faltantes de cada `comp_id`"
   ]
  },
  {
   "cell_type": "code",
   "execution_count": 33,
   "metadata": {},
   "outputs": [],
   "source": [
    "multi_index = pd.MultiIndex.from_product([year, comp_id],\n",
    "                           names=['year', 'comp_id'])\n",
    "\n",
    "filt_df = filt_df.reindex(multi_index).reset_index()\n"
   ]
  },
  {
   "cell_type": "markdown",
   "metadata": {},
   "source": [
    "Criar uma coluna `status_alive` que indica 1 para quando uma empresa está em operação em um determinado ano, 0 caso contrário"
   ]
  },
  {
   "cell_type": "code",
   "execution_count": 34,
   "metadata": {},
   "outputs": [],
   "source": [
    "filt_df['sales']= filt_df.sales.fillna(0)\n",
    "filt_df[\"status_alive\"] = ((filt_df[\"sales\"] > 0) & (~filt_df[\"sales\"].isna())).astype(int)"
   ]
  },
  {
   "cell_type": "markdown",
   "metadata": {},
   "source": [
    "Criar uma coluna `default` que indica 1 caso uma empres faliu em dois anos respectivo a cada ano, 0 caso contrário"
   ]
  },
  {
   "cell_type": "code",
   "execution_count": 35,
   "metadata": {},
   "outputs": [],
   "source": [
    "filt_df = filt_df.sort_values(['comp_id','year'], ascending=[0,1])\n",
    "filt_df['default'] = ((filt_df['status_alive'] == 1) & (filt_df.groupby(\"comp_id\")[\"status_alive\"].shift(-2) == 0)\n",
    "                        & (filt_df.groupby(\"comp_id\")[\"status_alive\"].shift(-1) == 1)).astype(int)"
   ]
  },
  {
   "cell_type": "markdown",
   "metadata": {},
   "source": [
    "# Filtrando e tratando observações"
   ]
  },
  {
   "cell_type": "markdown",
   "metadata": {},
   "source": [
    "Vamos retirar as observações com vendas negativas"
   ]
  },
  {
   "cell_type": "code",
   "execution_count": 36,
   "metadata": {},
   "outputs": [],
   "source": [
    "neg_compid = (df[df.sales < 0])['comp_id'].unique()\n",
    "filt_df = filt_df[~filt_df['comp_id'].isin(neg_compid)]"
   ]
  },
  {
   "cell_type": "markdown",
   "metadata": {},
   "source": [
    "Filtrar por vendas entre 1.000 e 10MM de Euros."
   ]
  },
  {
   "cell_type": "code",
   "execution_count": 37,
   "metadata": {},
   "outputs": [],
   "source": [
    "filt_df = filt_df.query(\"sales < 10000000 & sales > 1000\")"
   ]
  },
  {
   "cell_type": "markdown",
   "metadata": {},
   "source": [
    "Aplicar o log na coluna sales."
   ]
  },
  {
   "cell_type": "code",
   "execution_count": 38,
   "metadata": {},
   "outputs": [],
   "source": [
    "filt_df['log_sales'] = np.where(filt_df.sales > 0 , np.log(filt_df.sales), 0)"
   ]
  },
  {
   "cell_type": "markdown",
   "metadata": {},
   "source": [
    "Remover observações com status_alive == 0 em 2012"
   ]
  },
  {
   "cell_type": "code",
   "execution_count": 39,
   "metadata": {},
   "outputs": [],
   "source": [
    "filt_df = filt_df.query('year == 2012 & status_alive == 1')"
   ]
  },
  {
   "cell_type": "markdown",
   "metadata": {},
   "source": [
    "Remover observações anteriores à 2012"
   ]
  },
  {
   "cell_type": "code",
   "execution_count": 40,
   "metadata": {},
   "outputs": [],
   "source": [
    "filt_df = filt_df.query('year == 2012')"
   ]
  },
  {
   "cell_type": "markdown",
   "metadata": {},
   "source": [
    "### Novas colunas de idade"
   ]
  },
  {
   "cell_type": "markdown",
   "metadata": {},
   "source": [
    "Criar coluna idade da empresa em 2012"
   ]
  },
  {
   "cell_type": "code",
   "execution_count": 41,
   "metadata": {},
   "outputs": [],
   "source": [
    "filt_df['age'] = (2012 - filt_df.founded_year)"
   ]
  },
  {
   "cell_type": "markdown",
   "metadata": {},
   "source": [
    "Criar coluna idade média dos CEOs da empresa em 2012"
   ]
  },
  {
   "cell_type": "code",
   "execution_count": 42,
   "metadata": {},
   "outputs": [],
   "source": [
    "filt_df['ceo_avgage'] = (2012 - filt_df.birth_year)"
   ]
  },
  {
   "cell_type": "markdown",
   "metadata": {},
   "source": [
    "### Novas colunas financeiras"
   ]
  },
  {
   "cell_type": "markdown",
   "metadata": {},
   "source": [
    "Criar coluna Liquidez Corrente"
   ]
  },
  {
   "cell_type": "code",
   "execution_count": 43,
   "metadata": {},
   "outputs": [],
   "source": [
    "filt_df['curr_liq'] = filt_df[\"curr_assets\"]/filt_df[\"curr_liab\"]"
   ]
  },
  {
   "cell_type": "markdown",
   "metadata": {},
   "source": [
    "Criar coluna Liquidez Seca"
   ]
  },
  {
   "cell_type": "code",
   "execution_count": 44,
   "metadata": {},
   "outputs": [],
   "source": [
    "filt_df['curr_liq'] = filt_df[\"liq_assets\"]/filt_df[\"curr_liab\"]"
   ]
  },
  {
   "cell_type": "markdown",
   "metadata": {},
   "source": [
    "Criar Margem Líquida"
   ]
  },
  {
   "cell_type": "code",
   "execution_count": 45,
   "metadata": {},
   "outputs": [],
   "source": [
    "filt_df['net_profit'] = filt_df[\"profit_loss_year\"]/filt_df[\"sales\"]"
   ]
  },
  {
   "cell_type": "markdown",
   "metadata": {},
   "source": [
    "Criando grupos de colunas"
   ]
  },
  {
   "cell_type": "code",
   "execution_count": 46,
   "metadata": {},
   "outputs": [
    {
     "data": {
      "text/html": [
       "<div>\n",
       "<style scoped>\n",
       "    .dataframe tbody tr th:only-of-type {\n",
       "        vertical-align: middle;\n",
       "    }\n",
       "\n",
       "    .dataframe tbody tr th {\n",
       "        vertical-align: top;\n",
       "    }\n",
       "\n",
       "    .dataframe thead th {\n",
       "        text-align: right;\n",
       "    }\n",
       "</style>\n",
       "<table border=\"1\" class=\"dataframe\">\n",
       "  <thead>\n",
       "    <tr style=\"text-align: right;\">\n",
       "      <th></th>\n",
       "      <th>column</th>\n",
       "      <th>nunique</th>\n",
       "      <th>compid_list</th>\n",
       "    </tr>\n",
       "  </thead>\n",
       "  <tbody>\n",
       "    <tr>\n",
       "      <th>0</th>\n",
       "      <td>amort</td>\n",
       "      <td>6</td>\n",
       "      <td>[244979122176.0, 240819044352.0, 225678131200....</td>\n",
       "    </tr>\n",
       "    <tr>\n",
       "      <th>1</th>\n",
       "      <td>curr_assets</td>\n",
       "      <td>11</td>\n",
       "      <td>[441549553664.0, 323038543872.0, 292542283776....</td>\n",
       "    </tr>\n",
       "    <tr>\n",
       "      <th>2</th>\n",
       "      <td>curr_liab</td>\n",
       "      <td>11</td>\n",
       "      <td>[419201286144.0, 390831079424.0, 180938506240....</td>\n",
       "    </tr>\n",
       "    <tr>\n",
       "      <th>3</th>\n",
       "      <td>fixed_assets</td>\n",
       "      <td>0</td>\n",
       "      <td>[]</td>\n",
       "    </tr>\n",
       "    <tr>\n",
       "      <th>4</th>\n",
       "      <td>intang_assets</td>\n",
       "      <td>2</td>\n",
       "      <td>[87559397376.0, 37105459200.0]</td>\n",
       "    </tr>\n",
       "    <tr>\n",
       "      <th>5</th>\n",
       "      <td>inventories</td>\n",
       "      <td>4</td>\n",
       "      <td>[323038543872.0, 104754192384.0, 75834507264.0...</td>\n",
       "    </tr>\n",
       "    <tr>\n",
       "      <th>6</th>\n",
       "      <td>liq_assets</td>\n",
       "      <td>35</td>\n",
       "      <td>[441549553664.0, 412312862720.0, 406537830400....</td>\n",
       "    </tr>\n",
       "    <tr>\n",
       "      <th>7</th>\n",
       "      <td>tang_assets</td>\n",
       "      <td>0</td>\n",
       "      <td>[]</td>\n",
       "    </tr>\n",
       "    <tr>\n",
       "      <th>8</th>\n",
       "      <td>share_eq</td>\n",
       "      <td>8086</td>\n",
       "      <td>[463829172224.0, 463507849216.0, 463351349248....</td>\n",
       "    </tr>\n",
       "    <tr>\n",
       "      <th>9</th>\n",
       "      <td>subscribed_cap</td>\n",
       "      <td>1</td>\n",
       "      <td>[419277373440.0]</td>\n",
       "    </tr>\n",
       "    <tr>\n",
       "      <th>10</th>\n",
       "      <td>extra_exp</td>\n",
       "      <td>3</td>\n",
       "      <td>[208171499520.0, 128859717632.0, 8044613632.0]</td>\n",
       "    </tr>\n",
       "    <tr>\n",
       "      <th>11</th>\n",
       "      <td>extra_inc</td>\n",
       "      <td>2</td>\n",
       "      <td>[361688399872.0, 33890684928.0]</td>\n",
       "    </tr>\n",
       "    <tr>\n",
       "      <th>12</th>\n",
       "      <td>extra_profit_loss</td>\n",
       "      <td>1313</td>\n",
       "      <td>[464105013248.0, 462559707136.0, 462482800640....</td>\n",
       "    </tr>\n",
       "    <tr>\n",
       "      <th>13</th>\n",
       "      <td>inc_bef_tax</td>\n",
       "      <td>9970</td>\n",
       "      <td>[463981969408.0, 463840575488.0, 463829172224....</td>\n",
       "    </tr>\n",
       "    <tr>\n",
       "      <th>14</th>\n",
       "      <td>material_exp</td>\n",
       "      <td>4</td>\n",
       "      <td>[244979122176.0, 225678131200.0, 208171499520....</td>\n",
       "    </tr>\n",
       "    <tr>\n",
       "      <th>15</th>\n",
       "      <td>personnel_exp</td>\n",
       "      <td>6</td>\n",
       "      <td>[416116473856.0, 244979122176.0, 225678131200....</td>\n",
       "    </tr>\n",
       "    <tr>\n",
       "      <th>16</th>\n",
       "      <td>profit_loss_year</td>\n",
       "      <td>10014</td>\n",
       "      <td>[463981969408.0, 463840575488.0, 463829172224....</td>\n",
       "    </tr>\n",
       "    <tr>\n",
       "      <th>17</th>\n",
       "      <td>age</td>\n",
       "      <td>0</td>\n",
       "      <td>[]</td>\n",
       "    </tr>\n",
       "  </tbody>\n",
       "</table>\n",
       "</div>"
      ],
      "text/plain": [
       "               column  nunique  \\\n",
       "0               amort        6   \n",
       "1         curr_assets       11   \n",
       "2           curr_liab       11   \n",
       "3        fixed_assets        0   \n",
       "4       intang_assets        2   \n",
       "5         inventories        4   \n",
       "6          liq_assets       35   \n",
       "7         tang_assets        0   \n",
       "8            share_eq     8086   \n",
       "9      subscribed_cap        1   \n",
       "10          extra_exp        3   \n",
       "11          extra_inc        2   \n",
       "12  extra_profit_loss     1313   \n",
       "13        inc_bef_tax     9970   \n",
       "14       material_exp        4   \n",
       "15      personnel_exp        6   \n",
       "16   profit_loss_year    10014   \n",
       "17                age        0   \n",
       "\n",
       "                                          compid_list  \n",
       "0   [244979122176.0, 240819044352.0, 225678131200....  \n",
       "1   [441549553664.0, 323038543872.0, 292542283776....  \n",
       "2   [419201286144.0, 390831079424.0, 180938506240....  \n",
       "3                                                  []  \n",
       "4                      [87559397376.0, 37105459200.0]  \n",
       "5   [323038543872.0, 104754192384.0, 75834507264.0...  \n",
       "6   [441549553664.0, 412312862720.0, 406537830400....  \n",
       "7                                                  []  \n",
       "8   [463829172224.0, 463507849216.0, 463351349248....  \n",
       "9                                    [419277373440.0]  \n",
       "10     [208171499520.0, 128859717632.0, 8044613632.0]  \n",
       "11                    [361688399872.0, 33890684928.0]  \n",
       "12  [464105013248.0, 462559707136.0, 462482800640....  \n",
       "13  [463981969408.0, 463840575488.0, 463829172224....  \n",
       "14  [244979122176.0, 225678131200.0, 208171499520....  \n",
       "15  [416116473856.0, 244979122176.0, 225678131200....  \n",
       "16  [463981969408.0, 463840575488.0, 463829172224....  \n",
       "17                                                 []  "
      ]
     },
     "execution_count": 46,
     "metadata": {},
     "output_type": "execute_result"
    }
   ],
   "source": [
    "neg_group = [\"amort\", \"curr_assets\",\"curr_liab\",\"fixed_assets\",\"intang_assets\", \"inventories\",\"liq_assets\",\"tang_assets\",\"share_eq\",\"subscribed_cap\",\n",
    "            \"extra_exp\", \"extra_inc\", \"extra_profit_loss\", \"inc_bef_tax\", \"material_exp\", \"personnel_exp\", \"profit_loss_year\", \"age\"]\n",
    "\n",
    "list_neg = []\n",
    "\n",
    "for column in neg_group:\n",
    "    nunique = filt_df[filt_df[column] < 0]['comp_id'].nunique()\n",
    "    list_nunique = filt_df[filt_df[column] < 0]['comp_id'].unique()\n",
    "    list_neg.append([column, nunique, list_nunique])\n",
    "\n",
    "pd.DataFrame(list_neg, columns = [\"column\", \"nunique\", \"compid_list\"])"
   ]
  },
  {
   "cell_type": "code",
   "execution_count": 52,
   "metadata": {},
   "outputs": [
    {
     "data": {
      "text/html": [
       "<div>\n",
       "<style scoped>\n",
       "    .dataframe tbody tr th:only-of-type {\n",
       "        vertical-align: middle;\n",
       "    }\n",
       "\n",
       "    .dataframe tbody tr th {\n",
       "        vertical-align: top;\n",
       "    }\n",
       "\n",
       "    .dataframe thead th {\n",
       "        text-align: right;\n",
       "    }\n",
       "</style>\n",
       "<table border=\"1\" class=\"dataframe\">\n",
       "  <thead>\n",
       "    <tr style=\"text-align: right;\">\n",
       "      <th></th>\n",
       "      <th>column</th>\n",
       "      <th>nunique</th>\n",
       "      <th>compid_list</th>\n",
       "    </tr>\n",
       "  </thead>\n",
       "  <tbody>\n",
       "    <tr>\n",
       "      <th>0</th>\n",
       "      <td>amort</td>\n",
       "      <td>40</td>\n",
       "      <td>[451886055424.0, 435282083840.0, 413635313664....</td>\n",
       "    </tr>\n",
       "    <tr>\n",
       "      <th>1</th>\n",
       "      <td>curr_assets</td>\n",
       "      <td>10</td>\n",
       "      <td>[370157748224.0, 329876963328.0, 271439691776....</td>\n",
       "    </tr>\n",
       "    <tr>\n",
       "      <th>2</th>\n",
       "      <td>curr_liab</td>\n",
       "      <td>10</td>\n",
       "      <td>[370157748224.0, 329876963328.0, 271439691776....</td>\n",
       "    </tr>\n",
       "    <tr>\n",
       "      <th>3</th>\n",
       "      <td>fixed_assets</td>\n",
       "      <td>10</td>\n",
       "      <td>[370157748224.0, 329876963328.0, 271439691776....</td>\n",
       "    </tr>\n",
       "    <tr>\n",
       "      <th>4</th>\n",
       "      <td>intang_assets</td>\n",
       "      <td>10</td>\n",
       "      <td>[370157748224.0, 329876963328.0, 271439691776....</td>\n",
       "    </tr>\n",
       "    <tr>\n",
       "      <th>5</th>\n",
       "      <td>inventories</td>\n",
       "      <td>10</td>\n",
       "      <td>[370157748224.0, 329876963328.0, 271439691776....</td>\n",
       "    </tr>\n",
       "    <tr>\n",
       "      <th>6</th>\n",
       "      <td>liq_assets</td>\n",
       "      <td>10</td>\n",
       "      <td>[370157748224.0, 329876963328.0, 271439691776....</td>\n",
       "    </tr>\n",
       "    <tr>\n",
       "      <th>7</th>\n",
       "      <td>tang_assets</td>\n",
       "      <td>10</td>\n",
       "      <td>[370157748224.0, 329876963328.0, 271439691776....</td>\n",
       "    </tr>\n",
       "    <tr>\n",
       "      <th>8</th>\n",
       "      <td>share_eq</td>\n",
       "      <td>10</td>\n",
       "      <td>[370157748224.0, 329876963328.0, 271439691776....</td>\n",
       "    </tr>\n",
       "    <tr>\n",
       "      <th>9</th>\n",
       "      <td>subscribed_cap</td>\n",
       "      <td>10</td>\n",
       "      <td>[370157748224.0, 329876963328.0, 271439691776....</td>\n",
       "    </tr>\n",
       "    <tr>\n",
       "      <th>10</th>\n",
       "      <td>extra_exp</td>\n",
       "      <td>0</td>\n",
       "      <td>[]</td>\n",
       "    </tr>\n",
       "    <tr>\n",
       "      <th>11</th>\n",
       "      <td>extra_inc</td>\n",
       "      <td>0</td>\n",
       "      <td>[]</td>\n",
       "    </tr>\n",
       "    <tr>\n",
       "      <th>12</th>\n",
       "      <td>extra_profit_loss</td>\n",
       "      <td>0</td>\n",
       "      <td>[]</td>\n",
       "    </tr>\n",
       "    <tr>\n",
       "      <th>13</th>\n",
       "      <td>inc_bef_tax</td>\n",
       "      <td>0</td>\n",
       "      <td>[]</td>\n",
       "    </tr>\n",
       "    <tr>\n",
       "      <th>14</th>\n",
       "      <td>material_exp</td>\n",
       "      <td>40</td>\n",
       "      <td>[451886055424.0, 435282083840.0, 413635313664....</td>\n",
       "    </tr>\n",
       "    <tr>\n",
       "      <th>15</th>\n",
       "      <td>personnel_exp</td>\n",
       "      <td>40</td>\n",
       "      <td>[451886055424.0, 435282083840.0, 413635313664....</td>\n",
       "    </tr>\n",
       "    <tr>\n",
       "      <th>16</th>\n",
       "      <td>profit_loss_year</td>\n",
       "      <td>10</td>\n",
       "      <td>[370157748224.0, 329876963328.0, 271439691776....</td>\n",
       "    </tr>\n",
       "    <tr>\n",
       "      <th>17</th>\n",
       "      <td>age</td>\n",
       "      <td>2008</td>\n",
       "      <td>[463829172224.0, 463351349248.0, 462129659904....</td>\n",
       "    </tr>\n",
       "  </tbody>\n",
       "</table>\n",
       "</div>"
      ],
      "text/plain": [
       "               column  nunique  \\\n",
       "0               amort       40   \n",
       "1         curr_assets       10   \n",
       "2           curr_liab       10   \n",
       "3        fixed_assets       10   \n",
       "4       intang_assets       10   \n",
       "5         inventories       10   \n",
       "6          liq_assets       10   \n",
       "7         tang_assets       10   \n",
       "8            share_eq       10   \n",
       "9      subscribed_cap       10   \n",
       "10          extra_exp        0   \n",
       "11          extra_inc        0   \n",
       "12  extra_profit_loss        0   \n",
       "13        inc_bef_tax        0   \n",
       "14       material_exp       40   \n",
       "15      personnel_exp       40   \n",
       "16   profit_loss_year       10   \n",
       "17                age     2008   \n",
       "\n",
       "                                          compid_list  \n",
       "0   [451886055424.0, 435282083840.0, 413635313664....  \n",
       "1   [370157748224.0, 329876963328.0, 271439691776....  \n",
       "2   [370157748224.0, 329876963328.0, 271439691776....  \n",
       "3   [370157748224.0, 329876963328.0, 271439691776....  \n",
       "4   [370157748224.0, 329876963328.0, 271439691776....  \n",
       "5   [370157748224.0, 329876963328.0, 271439691776....  \n",
       "6   [370157748224.0, 329876963328.0, 271439691776....  \n",
       "7   [370157748224.0, 329876963328.0, 271439691776....  \n",
       "8   [370157748224.0, 329876963328.0, 271439691776....  \n",
       "9   [370157748224.0, 329876963328.0, 271439691776....  \n",
       "10                                                 []  \n",
       "11                                                 []  \n",
       "12                                                 []  \n",
       "13                                                 []  \n",
       "14  [451886055424.0, 435282083840.0, 413635313664....  \n",
       "15  [451886055424.0, 435282083840.0, 413635313664....  \n",
       "16  [370157748224.0, 329876963328.0, 271439691776....  \n",
       "17  [463829172224.0, 463351349248.0, 462129659904....  "
      ]
     },
     "execution_count": 52,
     "metadata": {},
     "output_type": "execute_result"
    }
   ],
   "source": [
    "neg_group = [\"amort\", \"curr_assets\",\"curr_liab\",\"fixed_assets\",\"intang_assets\", \"inventories\",\"liq_assets\",\"tang_assets\",\"share_eq\",\"subscribed_cap\",\n",
    "            \"extra_exp\", \"extra_inc\", \"extra_profit_loss\", \"inc_bef_tax\", \"material_exp\", \"personnel_exp\", \"profit_loss_year\", \"age\"]\n",
    "\n",
    "list_na = []\n",
    "\n",
    "for column in neg_group:\n",
    "    nunique = filt_df[filt_df[column].isna()]['comp_id'].nunique()\n",
    "    list_nunique = filt_df[filt_df[column].isna()]['comp_id'].unique()\n",
    "    list_na.append([column, nunique, list_nunique])\n",
    "\n",
    "pd.DataFrame(list_na, columns = [\"column\", \"nunique\", \"compid_list\"])"
   ]
  }
 ],
 "metadata": {
  "interpreter": {
   "hash": "0b59637b1394756eb7ed213fcf92fb888779c2e1ebc703c3375816d555c43ab4"
  },
  "kernelspec": {
   "display_name": "Python 3.8.3 ('base')",
   "language": "python",
   "name": "python3"
  },
  "language_info": {
   "codemirror_mode": {
    "name": "ipython",
    "version": 3
   },
   "file_extension": ".py",
   "mimetype": "text/x-python",
   "name": "python",
   "nbconvert_exporter": "python",
   "pygments_lexer": "ipython3",
   "version": "3.8.3"
  },
  "orig_nbformat": 4
 },
 "nbformat": 4,
 "nbformat_minor": 2
}
